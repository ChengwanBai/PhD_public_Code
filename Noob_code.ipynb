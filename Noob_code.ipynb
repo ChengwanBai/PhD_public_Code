{
 "cells": [
  {
   "cell_type": "code",
   "execution_count": 1,
   "id": "3309880c-ae44-4716-aca5-1dfb32afe3d7",
   "metadata": {},
   "outputs": [
    {
     "name": "stdout",
     "output_type": "stream",
     "text": [
      "Hello Noob!\n"
     ]
    }
   ],
   "source": [
    "print(\"Hello Noob!\")"
   ]
  },
  {
   "cell_type": "code",
   "execution_count": 19,
   "id": "2a5e4f39-2972-4e07-b469-ba67eae959ac",
   "metadata": {},
   "outputs": [],
   "source": [
    "import numpy as np\n",
    "import matplotlib.pyplot as plt\n",
    "import pandas as pd"
   ]
  },
  {
   "cell_type": "code",
   "execution_count": 30,
   "id": "5c964a33-fa39-4256-a280-e64552c6ed4a",
   "metadata": {},
   "outputs": [],
   "source": [
    "\n",
    "from sklearn.datasets import load_iris\n",
    "iris = load_iris()\n",
    "X = iris.data\n",
    "y = iris.target"
   ]
  },
  {
   "cell_type": "code",
   "execution_count": 40,
   "id": "d9826393-eaa0-4af3-b8cf-26536fbe3ad9",
   "metadata": {},
   "outputs": [
    {
     "data": {
      "text/html": [
       "<div>\n",
       "<style scoped>\n",
       "    .dataframe tbody tr th:only-of-type {\n",
       "        vertical-align: middle;\n",
       "    }\n",
       "\n",
       "    .dataframe tbody tr th {\n",
       "        vertical-align: top;\n",
       "    }\n",
       "\n",
       "    .dataframe thead th {\n",
       "        text-align: right;\n",
       "    }\n",
       "</style>\n",
       "<table border=\"1\" class=\"dataframe\">\n",
       "  <thead>\n",
       "    <tr style=\"text-align: right;\">\n",
       "      <th></th>\n",
       "      <th>sepal length (cm)</th>\n",
       "      <th>sepal width (cm)</th>\n",
       "      <th>petal length (cm)</th>\n",
       "      <th>petal width (cm)</th>\n",
       "      <th>target</th>\n",
       "    </tr>\n",
       "  </thead>\n",
       "  <tbody>\n",
       "    <tr>\n",
       "      <th>0</th>\n",
       "      <td>5.1</td>\n",
       "      <td>3.5</td>\n",
       "      <td>1.4</td>\n",
       "      <td>0.2</td>\n",
       "      <td>0</td>\n",
       "    </tr>\n",
       "    <tr>\n",
       "      <th>1</th>\n",
       "      <td>4.9</td>\n",
       "      <td>3.0</td>\n",
       "      <td>1.4</td>\n",
       "      <td>0.2</td>\n",
       "      <td>0</td>\n",
       "    </tr>\n",
       "    <tr>\n",
       "      <th>2</th>\n",
       "      <td>4.7</td>\n",
       "      <td>3.2</td>\n",
       "      <td>1.3</td>\n",
       "      <td>0.2</td>\n",
       "      <td>0</td>\n",
       "    </tr>\n",
       "    <tr>\n",
       "      <th>3</th>\n",
       "      <td>4.6</td>\n",
       "      <td>3.1</td>\n",
       "      <td>1.5</td>\n",
       "      <td>0.2</td>\n",
       "      <td>0</td>\n",
       "    </tr>\n",
       "    <tr>\n",
       "      <th>4</th>\n",
       "      <td>5.0</td>\n",
       "      <td>3.6</td>\n",
       "      <td>1.4</td>\n",
       "      <td>0.2</td>\n",
       "      <td>0</td>\n",
       "    </tr>\n",
       "  </tbody>\n",
       "</table>\n",
       "</div>"
      ],
      "text/plain": [
       "   sepal length (cm)  sepal width (cm)  petal length (cm)  petal width (cm)  \\\n",
       "0                5.1               3.5                1.4               0.2   \n",
       "1                4.9               3.0                1.4               0.2   \n",
       "2                4.7               3.2                1.3               0.2   \n",
       "3                4.6               3.1                1.5               0.2   \n",
       "4                5.0               3.6                1.4               0.2   \n",
       "\n",
       "   target  \n",
       "0       0  \n",
       "1       0  \n",
       "2       0  \n",
       "3       0  \n",
       "4       0  "
      ]
     },
     "execution_count": 40,
     "metadata": {},
     "output_type": "execute_result"
    }
   ],
   "source": [
    "# Combining the data (features) and target into a single DataFrame\n",
    "iris_combined = pd.DataFrame(X, columns=iris.feature_names)\n",
    "iris_combined['target'] = iris.target\n",
    "\n",
    "# Displaying the first 5 rows of the combined DataFrame\n",
    "iris_combined.head()"
   ]
  },
  {
   "cell_type": "code",
   "execution_count": 178,
   "id": "4e8c9b90-e006-4763-8db6-dbe1bc28a595",
   "metadata": {},
   "outputs": [
    {
     "ename": "AttributeError",
     "evalue": "'RandomForestClassifier' object has no attribute 'classification_report'",
     "output_type": "error",
     "traceback": [
      "\u001b[0;31m---------------------------------------------------------------------------\u001b[0m",
      "\u001b[0;31mAttributeError\u001b[0m                            Traceback (most recent call last)",
      "Cell \u001b[0;32mIn[178], line 25\u001b[0m\n\u001b[1;32m     22\u001b[0m accuracy_R \u001b[38;5;241m=\u001b[39m accuracy_score(y_test, y_pred_R)\n\u001b[1;32m     23\u001b[0m accuracy_L \u001b[38;5;241m=\u001b[39m accuracy_score(y_test, y_pred_L)\n\u001b[0;32m---> 25\u001b[0m classification_rep \u001b[38;5;241m=\u001b[39m RFC\u001b[38;5;241m.\u001b[39mclassification_report\n",
      "\u001b[0;31mAttributeError\u001b[0m: 'RandomForestClassifier' object has no attribute 'classification_report'"
     ]
    }
   ],
   "source": [
    "# Importing necessary libraries for the classification task\n",
    "from sklearn.model_selection import train_test_split\n",
    "from sklearn.ensemble import RandomForestClassifier\n",
    "from sklearn.metrics import accuracy_score, classification_report\n",
    "from sklearn.linear_model import LogisticRegression\n",
    "\n",
    "# Splitting the data into training and testing sets\n",
    "X_train, X_test, y_train, y_test = train_test_split(X, y, test_size=0.3)\n",
    "\n",
    "# Initializing and training the Random Forest classifier\n",
    "RFC = RandomForestClassifier()\n",
    "LR = LogisticRegression()\n",
    "\n",
    "RFC.fit(X_train, y_train)\n",
    "LR.fit(X_train,y_train)\n",
    "\n",
    "# Making predictions on the test set\n",
    "y_pred_R = RFC.predict(X_test)\n",
    "y_pred_L = LR.predict(X_test)\n",
    "# Evaluating the model\n",
    "\n",
    "accuracy_R = accuracy_score(y_test, y_pred_R)\n",
    "accuracy_L = accuracy_score(y_test, y_pred_L)\n",
    "\n",
    "classification_rep_R = classification_report(y_test, y_pred_R)\n",
    "classification_rep_L = classification_report(y_test, y_pred_L)\n",
    "\n"
   ]
  },
  {
   "cell_type": "code",
   "execution_count": 172,
   "id": "483ee4bd-8e4c-4b19-94f3-4dbb4127287c",
   "metadata": {},
   "outputs": [
    {
     "data": {
      "text/plain": [
       "(0.9333333333333333, 0.9555555555555556)"
      ]
     },
     "execution_count": 172,
     "metadata": {},
     "output_type": "execute_result"
    }
   ],
   "source": [
    "accuracy_R,accuracy_L"
   ]
  },
  {
   "cell_type": "code",
   "execution_count": 174,
   "id": "b82da8de-9e8f-4270-8e27-bfb14a2d046f",
   "metadata": {},
   "outputs": [
    {
     "data": {
      "text/plain": [
       "'              precision    recall  f1-score   support\\n\\n           0       0.40      0.32      0.35        19\\n           1       0.36      0.45      0.40        11\\n           2       0.25      0.27      0.26        15\\n\\n    accuracy                           0.33        45\\n   macro avg       0.34      0.35      0.34        45\\nweighted avg       0.34      0.33      0.33        45\\n'"
      ]
     },
     "execution_count": 174,
     "metadata": {},
     "output_type": "execute_result"
    }
   ],
   "source": [
    "classification_rep"
   ]
  },
  {
   "cell_type": "code",
   "execution_count": null,
   "id": "230dd2c4-f61e-46b2-a06e-3327e0f5912d",
   "metadata": {},
   "outputs": [],
   "source": []
  }
 ],
 "metadata": {
  "kernelspec": {
   "display_name": "Python 3 (ipykernel)",
   "language": "python",
   "name": "python3"
  },
  "language_info": {
   "codemirror_mode": {
    "name": "ipython",
    "version": 3
   },
   "file_extension": ".py",
   "mimetype": "text/x-python",
   "name": "python",
   "nbconvert_exporter": "python",
   "pygments_lexer": "ipython3",
   "version": "3.12.4"
  }
 },
 "nbformat": 4,
 "nbformat_minor": 5
}
